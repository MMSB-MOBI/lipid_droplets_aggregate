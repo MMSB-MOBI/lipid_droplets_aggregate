{
 "cells": [
  {
   "cell_type": "code",
   "execution_count": 31,
   "metadata": {},
   "outputs": [],
   "source": [
    "import MDAnalysis as mda\n",
    "from MDAnalysis.lib import distances"
   ]
  },
  {
   "cell_type": "code",
   "execution_count": 1,
   "metadata": {},
   "outputs": [],
   "source": [
    "topology = \"../data/gro456.PO4.tpr\"\n",
    "trajectory = \"../data/md.PO4.xtc\""
   ]
  },
  {
   "cell_type": "markdown",
   "metadata": {},
   "source": [
    "### Load system"
   ]
  },
  {
   "cell_type": "code",
   "execution_count": 4,
   "metadata": {},
   "outputs": [],
   "source": [
    "system = mda.Universe(topology, trajectory)"
   ]
  },
  {
   "cell_type": "code",
   "execution_count": 212,
   "metadata": {},
   "outputs": [
    {
     "data": {
      "text/plain": [
       "< Timestep 3 with unit cell dimensions [659.4375 272.5214 500.      90.      90.      90.    ] >"
      ]
     },
     "execution_count": 212,
     "metadata": {},
     "output_type": "execute_result"
    }
   ],
   "source": [
    "system.trajectory.next()"
   ]
  },
  {
   "cell_type": "markdown",
   "metadata": {},
   "source": [
    "### Select TO"
   ]
  },
  {
   "cell_type": "code",
   "execution_count": 28,
   "metadata": {},
   "outputs": [],
   "source": [
    "to = system.select_atoms(\"resname TO\")"
   ]
  },
  {
   "cell_type": "code",
   "execution_count": null,
   "metadata": {},
   "outputs": [],
   "source": []
  },
  {
   "cell_type": "code",
   "execution_count": 29,
   "metadata": {},
   "outputs": [
    {
     "name": "stdout",
     "output_type": "stream",
     "text": [
      "CPU times: user 4.95 ms, sys: 4 ms, total: 8.95 ms\n",
      "Wall time: 7.16 ms\n"
     ]
    }
   ],
   "source": [
    "%%time\n",
    "center_of_mass = to.center_of_mass(compound=\"residues\") #Center of mass by residues"
   ]
  },
  {
   "cell_type": "markdown",
   "metadata": {},
   "source": [
    "Facteur 10 entre centre de masse de g_aggregate et ceux de MDAnalysis\n",
    "c_aggregate : 59.639999;17.676666;21.440668"
   ]
  },
  {
   "cell_type": "markdown",
   "metadata": {},
   "source": [
    "### Distance matrix\n",
    "With center of mass"
   ]
  },
  {
   "cell_type": "code",
   "execution_count": 84,
   "metadata": {},
   "outputs": [],
   "source": [
    "dist_matrix = distances.distance_array(center_of_mass, center_of_mass, box = system.dimensions)"
   ]
  },
  {
   "cell_type": "markdown",
   "metadata": {},
   "source": [
    "### Neighborhood test"
   ]
  },
  {
   "cell_type": "code",
   "execution_count": 110,
   "metadata": {},
   "outputs": [],
   "source": [
    "neighbors = distances.self_capped_distance(center_of_mass, 13, box = system.dimensions)"
   ]
  },
  {
   "cell_type": "code",
   "execution_count": 111,
   "metadata": {},
   "outputs": [],
   "source": [
    "neighbors_list = {}\n",
    "for n in neighbors[0]:\n",
    "    if n[0] not in neighbors_list:\n",
    "        neighbors_list[n[0]] = []\n",
    "    if n[1] not in neighbors_list:\n",
    "        neighbors_list[n[1]] = []\n",
    "    neighbors_list[n[0]].append(n[1])\n",
    "    neighbors_list[n[1]].append(n[0])"
   ]
  },
  {
   "cell_type": "markdown",
   "metadata": {},
   "source": [
    "### Construct  clusters"
   ]
  },
  {
   "cell_type": "code",
   "execution_count": 119,
   "metadata": {},
   "outputs": [],
   "source": [
    "def add_to_cluster(cluster, residue, assigned, neighbors_list):\n",
    "    neighbors = neighbors_list.get(residue,[])\n",
    "    cluster.add(residue)\n",
    "    assigned.add(residue)\n",
    "    for res in neighbors:\n",
    "        if not res in assigned:\n",
    "            cluster, assigned = add_to_cluster(cluster, res, assigned, neighbors_list)\n",
    "        \n",
    "    return cluster, assigned"
   ]
  },
  {
   "cell_type": "code",
   "execution_count": 221,
   "metadata": {},
   "outputs": [
    {
     "name": "stdout",
     "output_type": "stream",
     "text": [
      "[118.15953644 129.78052918 275.19772421]\n",
      "[118.10243906879197, 129.74444125610148, 275.19010248874184]\n",
      "[567.69118066 158.49782126 222.15174924]\n",
      "[567.6697176713013, 158.23213426456428, 222.15148704837605]\n",
      "[114.12455717 127.12130979 282.65629704]\n",
      "[114.07238568923121, 127.13708009368347, 282.68271713753666]\n",
      "[115.82705026 127.12978672 284.87515172]\n",
      "[115.76036265635648, 127.08599262360005, 284.8867697548937]\n",
      "[109.37246744 121.4351614  282.87429451]\n",
      "[109.30696734508314, 121.42134205009764, 282.903111990956]\n",
      "[112.60296399 126.92079723 286.24842664]\n",
      "[112.51740124433717, 126.66122400326628, 286.28802832294446]\n",
      "[109.16747133 124.40052371 285.76522198]\n",
      "[109.07478909350583, 124.47741401517942, 285.8197719376879]\n",
      "[115.067934   123.42052647 284.50119329]\n",
      "[115.00084747254158, 123.58789777305861, 284.55436589333164]\n",
      "[115.89978014 123.30322197 286.47955875]\n",
      "[115.84063132580361, 123.28816673930531, 286.522823891439]\n",
      "[112.09668218 124.20702433 289.92896683]\n",
      "[112.03429913895134, 124.14347399884795, 289.9970881820842]\n",
      "CPU times: user 281 ms, sys: 3.89 ms, total: 285 ms\n",
      "Wall time: 281 ms\n"
     ]
    }
   ],
   "source": [
    "%%time\n",
    "for ts in system.trajectory[:10]:\n",
    "    to = system.select_atoms(\"resname TO\")\n",
    "    center_of_mass = to.center_of_mass(compound=\"residues\") #Center of mass by residues\n",
    "    neighbors = distances.self_capped_distance(center_of_mass, 13, box = system.dimensions)\n",
    "    neighbors_list = {}\n",
    "    for n in neighbors[0]:\n",
    "        if n[0] not in neighbors_list:\n",
    "            neighbors_list[n[0]] = []\n",
    "        if n[1] not in neighbors_list:\n",
    "            neighbors_list[n[1]] = []\n",
    "        neighbors_list[n[0]].append(n[1])\n",
    "        neighbors_list[n[1]].append(n[0])\n",
    "    clusters_array = []\n",
    "    assigned = set()\n",
    "    for res in range(to.n_residues):\n",
    "        if not res in assigned:\n",
    "            cluster, assigned = add_to_cluster(set(), res, assigned, neighbors_list)\n",
    "            clusters_array.append(cluster)\n",
    "    \n",
    "    sorted_clusters = sorted(clusters_array, key = lambda cluster:len(cluster), reverse = True)\n",
    "    largest_clusters_atoms = to.residues[list(sorted_clusters[0])].atoms\n",
    "    largest_com = largest_clusters_atoms.center_of_mass()\n",
    "    largest_com_C = C_center_of_mass(sorted_clusters[0], center_of_mass)\n",
    "    print(largest_com)\n",
    "    print(largest_com_C)"
   ]
  },
  {
   "cell_type": "code",
   "execution_count": 196,
   "metadata": {},
   "outputs": [
    {
     "data": {
      "text/plain": [
       "<AtomGroup with 30 atoms>"
      ]
     },
     "execution_count": 196,
     "metadata": {},
     "output_type": "execute_result"
    }
   ],
   "source": [
    "to.residues[[0,1]].atoms"
   ]
  },
  {
   "cell_type": "code",
   "execution_count": 218,
   "metadata": {},
   "outputs": [],
   "source": [
    "import math\n",
    "def C_center_of_mass(cluster, residues_com):\n",
    "    aaCM= [0,0,0,0,0,0]\n",
    "    Lx = system.dimensions[0]\n",
    "    Ly = system.dimensions[1]\n",
    "    Lz = system.dimensions[2]\n",
    "    for res in cluster:\n",
    "        aaCM[0] += math.cos(2 * math.pi * residues_com[res][0] / Lx)/len(cluster)\n",
    "        aaCM[1] += math.sin(2 * math.pi * residues_com[res][0] / Lx)/len(cluster)\n",
    "        aaCM[2] += math.cos(2 * math.pi * residues_com[res][1] / Ly)/len(cluster)\n",
    "        aaCM[3] += math.sin(2 * math.pi * residues_com[res][1] / Ly)/len(cluster)\n",
    "        aaCM[4] += math.cos(2 * math.pi * residues_com[res][2] / Lz)/len(cluster)\n",
    "        aaCM[5] += math.sin(2 * math.pi * residues_com[res][2] / Lz)/len(cluster)\n",
    "        \n",
    "    \n",
    "    com_x = (math.atan2(-aaCM[1], -aaCM[0]) + math.pi) * Lx / (2*math.pi)\n",
    "    com_y = (math.atan2(-aaCM[3], -aaCM[2]) + math.pi) * Ly / (2*math.pi)\n",
    "    com_z = (math.atan2(-aaCM[5], -aaCM[4]) + math.pi) * Lz / (2*math.pi)\n",
    "                                                                         \n",
    "    return [com_x, com_y, com_z]"
   ]
  },
  {
   "cell_type": "markdown",
   "metadata": {},
   "source": [
    "### Clustering\n",
    "recursiv_clust method in C code"
   ]
  },
  {
   "cell_type": "code",
   "execution_count": 126,
   "metadata": {},
   "outputs": [],
   "source": [
    "def recursiv_it(distmat, threshold, nb_residues, actual_residue, actual_cluster, clusters, nb_clusters):\n",
    "    clusters[actual_residue] = actual_cluster\n",
    "    for i in range(nb_residues):\n",
    "        if distmat[actual_residue][i] < threshold and i != actual_residue and i not in clusters : \n",
    "            if actual_cluster == 0:\n",
    "                nb_clusters += 1 \n",
    "                actual_cluster = nb_clusters\n",
    "                clusters[actual_residue] = actual_cluster\n",
    "            clusters, nb_clusters = recursiv_it(distmat, threshold, nb_residues, i, actual_cluster, clusters, nb_clusters)\n",
    "    return clusters, nb_clusters\n",
    "\n",
    "def recursiv_clust(distmat, threshold, nb_residues):\n",
    "    nb_clusters = 0\n",
    "    clusters = {}\n",
    "    \n",
    "    for i in range(nb_residues):\n",
    "        if not i in clusters:\n",
    "            clusters, nb_clusters = recursiv_it(distmat, threshold, nb_residues, i, 0, clusters, nb_clusters)\n",
    "    \n",
    "    return clusters, nb_clusters"
   ]
  },
  {
   "cell_type": "code",
   "execution_count": 218,
   "metadata": {
    "scrolled": false
   },
   "outputs": [
    {
     "name": "stdout",
     "output_type": "stream",
     "text": [
      "The line_profiler extension is already loaded. To reload it, use:\n",
      "  %reload_ext line_profiler\n"
     ]
    }
   ],
   "source": [
    "%load_ext line_profiler"
   ]
  },
  {
   "cell_type": "code",
   "execution_count": 103,
   "metadata": {
    "scrolled": true
   },
   "outputs": [
    {
     "name": "stdout",
     "output_type": "stream",
     "text": [
      "CPU times: user 8 µs, sys: 2 µs, total: 10 µs\n",
      "Wall time: 19.8 µs\n"
     ]
    }
   ],
   "source": [
    "%time\n",
    "clusters, nb_clusters = recursiv_clust(dist_matrix, 13, to.n_residues)"
   ]
  },
  {
   "cell_type": "markdown",
   "metadata": {},
   "source": [
    "The cluster 0 is the list of alone molecules. "
   ]
  },
  {
   "cell_type": "code",
   "execution_count": 127,
   "metadata": {},
   "outputs": [
    {
     "ename": "KeyError",
     "evalue": "0",
     "output_type": "error",
     "traceback": [
      "\u001b[0;31m---------------------------------------------------------------------------\u001b[0m",
      "\u001b[0;31mKeyError\u001b[0m                                  Traceback (most recent call last)",
      "\u001b[0;32m<ipython-input-127-aebe5dbf2765>\u001b[0m in \u001b[0;36m<module>\u001b[0;34m\u001b[0m\n\u001b[1;32m      9\u001b[0m \u001b[0;34m\u001b[0m\u001b[0m\n\u001b[1;32m     10\u001b[0m \u001b[0mnb_cluster\u001b[0m \u001b[0;34m=\u001b[0m \u001b[0mlen\u001b[0m\u001b[0;34m(\u001b[0m\u001b[0mclusters_key\u001b[0m\u001b[0;34m)\u001b[0m\u001b[0;34m\u001b[0m\u001b[0;34m\u001b[0m\u001b[0m\n\u001b[0;32m---> 11\u001b[0;31m \u001b[0;32mfor\u001b[0m \u001b[0mmol\u001b[0m \u001b[0;32min\u001b[0m \u001b[0mclusters_key\u001b[0m\u001b[0;34m[\u001b[0m\u001b[0;36m0\u001b[0m\u001b[0;34m]\u001b[0m\u001b[0;34m:\u001b[0m\u001b[0;34m\u001b[0m\u001b[0;34m\u001b[0m\u001b[0m\n\u001b[0m\u001b[1;32m     12\u001b[0m     \u001b[0mclusters_key\u001b[0m\u001b[0;34m[\u001b[0m\u001b[0mnb_cluster\u001b[0m\u001b[0;34m]\u001b[0m \u001b[0;34m=\u001b[0m \u001b[0;34m[\u001b[0m\u001b[0mmol\u001b[0m\u001b[0;34m]\u001b[0m\u001b[0;34m\u001b[0m\u001b[0;34m\u001b[0m\u001b[0m\n\u001b[1;32m     13\u001b[0m     \u001b[0mnb_cluster\u001b[0m \u001b[0;34m+=\u001b[0m \u001b[0;36m1\u001b[0m\u001b[0;34m\u001b[0m\u001b[0;34m\u001b[0m\u001b[0m\n",
      "\u001b[0;31mKeyError\u001b[0m: 0"
     ]
    }
   ],
   "source": [
    "nb_clusters = 0\n",
    "clusters = {}\n",
    "clusters_key = {}\n",
    "for mol in clusters:\n",
    "    cluster = clusters[mol]\n",
    "    if cluster not in clusters_key:\n",
    "        clusters_key[cluster] = []\n",
    "    clusters_key[cluster].append(mol)\n",
    "\n",
    "nb_cluster = len(clusters_key)\n",
    "for mol in clusters_key[0]:\n",
    "    clusters_key[nb_cluster] = [mol]\n",
    "    nb_cluster += 1\n",
    "del clusters_key[0]"
   ]
  },
  {
   "cell_type": "code",
   "execution_count": 105,
   "metadata": {},
   "outputs": [
    {
     "name": "stdout",
     "output_type": "stream",
     "text": [
      "232\n"
     ]
    }
   ],
   "source": [
    "print(len(clusters_key))"
   ]
  },
  {
   "cell_type": "code",
   "execution_count": 107,
   "metadata": {},
   "outputs": [
    {
     "name": "stdout",
     "output_type": "stream",
     "text": [
      "[0, 467, 424, 517, 336, 603, 613]\n"
     ]
    }
   ],
   "source": [
    "print(clusters_key[1])"
   ]
  },
  {
   "cell_type": "code",
   "execution_count": 222,
   "metadata": {},
   "outputs": [
    {
     "name": "stdout",
     "output_type": "stream",
     "text": [
      "{186: 1, 190: 1, 2: 25, 4: 2, 3: 6, 5: 1, 1: 193}\n"
     ]
    }
   ],
   "source": [
    "clusters_size = {}\n",
    "for k in clusters_key:\n",
    "    length = len(clusters_key[k])\n",
    "    if not length in clusters_size : \n",
    "        clusters_size[length] = 0\n",
    "    clusters_size[length] += 1\n",
    "print(clusters_size)"
   ]
  },
  {
   "cell_type": "code",
   "execution_count": 223,
   "metadata": {},
   "outputs": [
    {
     "name": "stdout",
     "output_type": "stream",
     "text": [
      "2.8384279475982535\n"
     ]
    }
   ],
   "source": [
    "average = sum([len(clusters_key[k]) for k in clusters_key]) / len(clusters_key)\n",
    "print(average)"
   ]
  },
  {
   "cell_type": "code",
   "execution_count": 25,
   "metadata": {},
   "outputs": [
    {
     "name": "stdout",
     "output_type": "stream",
     "text": [
      "CPU times: user 1.94 s, sys: 2.3 ms, total: 1.94 s\n",
      "Wall time: 1.94 s\n"
     ]
    }
   ],
   "source": [
    "%%time\n",
    "dist_matrix = constructMatrix(nb_residues, to)"
   ]
  },
  {
   "cell_type": "code",
   "execution_count": 26,
   "metadata": {},
   "outputs": [
    {
     "name": "stdout",
     "output_type": "stream",
     "text": [
      "CPU times: user 1.89 s, sys: 6.12 ms, total: 1.9 s\n",
      "Wall time: 1.9 s\n"
     ]
    }
   ],
   "source": [
    "%%time\n",
    "dist_matrix = constructMatrix(nb_residues, to)"
   ]
  },
  {
   "cell_type": "code",
   "execution_count": 137,
   "metadata": {},
   "outputs": [
    {
     "name": "stdout",
     "output_type": "stream",
     "text": [
      "456.3382464313222\n"
     ]
    }
   ],
   "source": [
    "print(dist_matrix[0][1])"
   ]
  },
  {
   "cell_type": "code",
   "execution_count": 132,
   "metadata": {},
   "outputs": [],
   "source": [
    "%lprun -f constructMatrix constructMatrix(nb_residues, to)"
   ]
  },
  {
   "cell_type": "code",
   "execution_count": 142,
   "metadata": {},
   "outputs": [
    {
     "name": "stdout",
     "output_type": "stream",
     "text": [
      "CPU times: user 9.33 s, sys: 0 ns, total: 9.33 s\n",
      "Wall time: 9.32 s\n"
     ]
    }
   ],
   "source": [
    "%%time\n",
    "for ts in system.trajectory[:5]:\n",
    "    dist_matrix = constructMatrix(nb_residues, to)\n",
    "    "
   ]
  },
  {
   "cell_type": "code",
   "execution_count": 137,
   "metadata": {},
   "outputs": [
    {
     "name": "stdout",
     "output_type": "stream",
     "text": [
      "CPU times: user 274 ms, sys: 4.11 ms, total: 279 ms\n",
      "Wall time: 276 ms\n"
     ]
    }
   ],
   "source": [
    "%%time\n",
    "for ts in system.trajectory[:1]:\n",
    "    to = system.select_atoms(\"resname TO\")\n",
    "    center_of_mass = to.center_of_mass(compound=\"residues\") #Center of mass by residues\n",
    "    dist_matrix = distances.distance_array(center_of_mass, center_of_mass, box = system.dimensions)\n",
    "    clusters, nb_clusters = recursiv_clust(dist_matrix, 13, to.n_residues)"
   ]
  },
  {
   "cell_type": "code",
   "execution_count": 238,
   "metadata": {},
   "outputs": [],
   "source": [
    "%lprun -f recursiv_clust recursiv_clust(dist_matrix, 13, to.n_residues)"
   ]
  },
  {
   "cell_type": "code",
   "execution_count": 246,
   "metadata": {
    "scrolled": true
   },
   "outputs": [
    {
     "name": "stdout",
     "output_type": "stream",
     "text": [
      "<Residue TO, 2016>\n"
     ]
    },
    {
     "ename": "AttributeError",
     "evalue": "Cannot set arbitrary attributes to a Component",
     "output_type": "error",
     "traceback": [
      "\u001b[0;31m---------------------------------------------------------------------------\u001b[0m",
      "\u001b[0;31mAttributeError\u001b[0m                            Traceback (most recent call last)",
      "\u001b[0;32m<ipython-input-246-2cf6f9baabc5>\u001b[0m in \u001b[0;36m<module>\u001b[0;34m\u001b[0m\n\u001b[1;32m      1\u001b[0m \u001b[0;32mfor\u001b[0m \u001b[0mres\u001b[0m \u001b[0;32min\u001b[0m \u001b[0mto\u001b[0m\u001b[0;34m.\u001b[0m\u001b[0mresidues\u001b[0m\u001b[0;34m:\u001b[0m\u001b[0;34m\u001b[0m\u001b[0;34m\u001b[0m\u001b[0m\n\u001b[1;32m      2\u001b[0m     \u001b[0mprint\u001b[0m\u001b[0;34m(\u001b[0m\u001b[0mres\u001b[0m\u001b[0;34m)\u001b[0m\u001b[0;34m\u001b[0m\u001b[0;34m\u001b[0m\u001b[0m\n\u001b[0;32m----> 3\u001b[0;31m     \u001b[0mres\u001b[0m\u001b[0;34m.\u001b[0m\u001b[0mcenter_of_mass\u001b[0m \u001b[0;34m=\u001b[0m \u001b[0;34m\"test\"\u001b[0m\u001b[0;34m\u001b[0m\u001b[0;34m\u001b[0m\u001b[0m\n\u001b[0m\u001b[1;32m      4\u001b[0m     \u001b[0;32mbreak\u001b[0m\u001b[0;34m\u001b[0m\u001b[0;34m\u001b[0m\u001b[0m\n",
      "\u001b[0;32m~/miniconda3/envs/mdanalysis/lib/python3.8/site-packages/MDAnalysis/core/groups.py\u001b[0m in \u001b[0;36m__setattr__\u001b[0;34m(self, attr, value)\u001b[0m\n\u001b[1;32m    281\u001b[0m                 \u001b[0mattr\u001b[0m \u001b[0;32min\u001b[0m \u001b[0mself\u001b[0m\u001b[0;34m.\u001b[0m\u001b[0m_SETATTR_WHITELIST\u001b[0m \u001b[0;32mor\u001b[0m  \u001b[0;31m# known attributes allowed\u001b[0m\u001b[0;34m\u001b[0m\u001b[0;34m\u001b[0m\u001b[0m\n\u001b[1;32m    282\u001b[0m                 hasattr(self, attr)):  # preexisting (eg properties) allowed\n\u001b[0;32m--> 283\u001b[0;31m             raise AttributeError(\n\u001b[0m\u001b[1;32m    284\u001b[0m                 \"Cannot set arbitrary attributes to a {}\".format(\n\u001b[1;32m    285\u001b[0m                     'Group' if self._is_group else 'Component'))\n",
      "\u001b[0;31mAttributeError\u001b[0m: Cannot set arbitrary attributes to a Component"
     ]
    }
   ],
   "source": [
    "for res in to.residues:\n",
    "    print(res)\n",
    "    res.center_of_mass = \"test\"\n",
    "    break"
   ]
  },
  {
   "cell_type": "markdown",
   "metadata": {},
   "source": [
    "### Test networkx "
   ]
  },
  {
   "cell_type": "code",
   "execution_count": 133,
   "metadata": {},
   "outputs": [],
   "source": [
    "import networkx as nx"
   ]
  },
  {
   "cell_type": "code",
   "execution_count": 139,
   "metadata": {},
   "outputs": [
    {
     "name": "stdout",
     "output_type": "stream",
     "text": [
      "CPU times: user 1.05 s, sys: 24 ms, total: 1.07 s\n",
      "Wall time: 1.07 s\n"
     ]
    }
   ],
   "source": [
    "%%time\n",
    "for ts in system.trajectory[:1]:\n",
    "    to = system.select_atoms(\"resname TO\")\n",
    "    center_of_mass = to.center_of_mass(compound=\"residues\") #Center of mass by residues\n",
    "    dist_matrix = distances.distance_array(center_of_mass, center_of_mass, box = system.dimensions)\n",
    "    graph = nx.from_numpy_matrix(dist_matrix)"
   ]
  },
  {
   "cell_type": "code",
   "execution_count": null,
   "metadata": {},
   "outputs": [],
   "source": []
  },
  {
   "cell_type": "code",
   "execution_count": 2,
   "metadata": {},
   "outputs": [],
   "source": [
    "import plotly.express as px"
   ]
  },
  {
   "cell_type": "code",
   "execution_count": 4,
   "metadata": {
    "scrolled": true
   },
   "outputs": [
    {
     "name": "stdout",
     "output_type": "stream",
     "text": [
      "     sepal_length  sepal_width  petal_length  petal_width    species  \\\n",
      "0             5.1          3.5           1.4          0.2     setosa   \n",
      "1             4.9          3.0           1.4          0.2     setosa   \n",
      "2             4.7          3.2           1.3          0.2     setosa   \n",
      "3             4.6          3.1           1.5          0.2     setosa   \n",
      "4             5.0          3.6           1.4          0.2     setosa   \n",
      "..            ...          ...           ...          ...        ...   \n",
      "145           6.7          3.0           5.2          2.3  virginica   \n",
      "146           6.3          2.5           5.0          1.9  virginica   \n",
      "147           6.5          3.0           5.2          2.0  virginica   \n",
      "148           6.2          3.4           5.4          2.3  virginica   \n",
      "149           5.9          3.0           5.1          1.8  virginica   \n",
      "\n",
      "     species_id  \n",
      "0             1  \n",
      "1             1  \n",
      "2             1  \n",
      "3             1  \n",
      "4             1  \n",
      "..          ...  \n",
      "145           3  \n",
      "146           3  \n",
      "147           3  \n",
      "148           3  \n",
      "149           3  \n",
      "\n",
      "[150 rows x 6 columns]\n"
     ]
    }
   ],
   "source": [
    "df = px.data.iris()\n",
    "print(df)"
   ]
  },
  {
   "cell_type": "code",
   "execution_count": 8,
   "metadata": {},
   "outputs": [],
   "source": [
    "import seaborn as sns\n",
    "tips = sns.load_dataset(\"tips\")"
   ]
  },
  {
   "cell_type": "code",
   "execution_count": 10,
   "metadata": {},
   "outputs": [
    {
     "name": "stdout",
     "output_type": "stream",
     "text": [
      "<class 'pandas.core.frame.DataFrame'>\n"
     ]
    }
   ],
   "source": [
    "print(type(tips))"
   ]
  },
  {
   "cell_type": "code",
   "execution_count": 12,
   "metadata": {},
   "outputs": [
    {
     "ename": "SyntaxError",
     "evalue": "invalid syntax (<ipython-input-12-8725ee24dce4>, line 1)",
     "output_type": "error",
     "traceback": [
      "\u001b[0;36m  File \u001b[0;32m\"<ipython-input-12-8725ee24dce4>\"\u001b[0;36m, line \u001b[0;32m1\u001b[0m\n\u001b[0;31m    {\"a\":[]}.add{\"b\":0}\u001b[0m\n\u001b[0m                ^\u001b[0m\n\u001b[0;31mSyntaxError\u001b[0m\u001b[0;31m:\u001b[0m invalid syntax\n"
     ]
    }
   ],
   "source": [
    "{\"a\":[]}.add{\"b\":0}"
   ]
  },
  {
   "cell_type": "code",
   "execution_count": 13,
   "metadata": {},
   "outputs": [],
   "source": [
    "results = {'time': [0.0, 1000.0, 2000.0, 3000.0, 4000.0, 5000.0, 6000.0, 7000.0, 8000.0, 9000.0], 'cluster1_size': [188, 190, 193, 190, 193, 200, 190, 189, 184, 185], 'cluster2_size': [163, 190, 190, 186, 165, 187, 188, 177, 178, 181], 'cluster3_size': [7, 5, 5, 5, 6, 8, 5, 4, 6, 9]}"
   ]
  },
  {
   "cell_type": "code",
   "execution_count": 14,
   "metadata": {},
   "outputs": [],
   "source": [
    "import matplotlib.pyplot as plt"
   ]
  },
  {
   "cell_type": "code",
   "execution_count": 19,
   "metadata": {},
   "outputs": [
    {
     "data": {
      "text/plain": [
       "[<matplotlib.lines.Line2D at 0x7fe0ed74b550>]"
      ]
     },
     "execution_count": 19,
     "metadata": {},
     "output_type": "execute_result"
    },
    {
     "data": {
      "image/png": "[encoded data removed]",
      "text/plain": [
       "<Figure size 432x288 with 1 Axes>"
      ]
     },
     "metadata": {
      "needs_background": "light"
     },
     "output_type": "display_data"
    }
   ],
   "source": [
    "plt.plot(results[\"time\"], results[\"cluster1_size\"])\n",
    "plt.ylim(0, 650)\n",
    "plt.plot(results[\"time\"], results[\"cluster2_size\"])\n",
    "plt.plot(results[\"time\"], results[\"cluster3_size\"])"
   ]
  },
  {
   "cell_type": "code",
   "execution_count": null,
   "metadata": {},
   "outputs": [],
   "source": []
  }
 ],
 "metadata": {
  "kernelspec": {
   "display_name": "Python 3",
   "language": "python",
   "name": "python3"
  },
  "language_info": {
   "codemirror_mode": {
    "name": "ipython",
    "version": 3
   },
   "file_extension": ".py",
   "mimetype": "text/x-python",
   "name": "python",
   "nbconvert_exporter": "python",
   "pygments_lexer": "ipython3",
   "version": "3.8.3"
  }
 },
 "nbformat": 4,
 "nbformat_minor": 4
}
