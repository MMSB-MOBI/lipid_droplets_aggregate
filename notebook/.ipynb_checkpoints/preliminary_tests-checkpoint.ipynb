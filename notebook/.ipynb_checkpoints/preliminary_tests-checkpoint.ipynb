{
 "cells": [
  {
   "cell_type": "code",
   "execution_count": 55,
   "metadata": {},
   "outputs": [],
   "source": [
    "import MDAnalysis as mda\n",
    "from MDAnalysis.analysis import distances"
   ]
  },
  {
   "cell_type": "code",
   "execution_count": 56,
   "metadata": {},
   "outputs": [],
   "source": [
    "topology = \"../data/gro456.PO4.tpr\"\n",
    "trajectory = \"../data/md.PO4.xtc\""
   ]
  },
  {
   "cell_type": "markdown",
   "metadata": {},
   "source": [
    "### Load system"
   ]
  },
  {
   "cell_type": "code",
   "execution_count": 57,
   "metadata": {},
   "outputs": [],
   "source": [
    "system = mda.Universe(topology, trajectory)"
   ]
  },
  {
   "cell_type": "markdown",
   "metadata": {},
   "source": [
    "### Select TO"
   ]
  },
  {
   "cell_type": "code",
   "execution_count": 58,
   "metadata": {},
   "outputs": [],
   "source": [
    "to = system.select_atoms(\"resname TO\")"
   ]
  },
  {
   "cell_type": "code",
   "execution_count": 112,
   "metadata": {},
   "outputs": [
    {
     "name": "stdout",
     "output_type": "stream",
     "text": [
      "CPU times: user 7.14 ms, sys: 0 ns, total: 7.14 ms\n",
      "Wall time: 5.9 ms\n"
     ]
    }
   ],
   "source": [
    "%%time\n",
    "center_of_mass = to.center_of_mass(compound=\"residues\") #Center of mass by residues"
   ]
  },
  {
   "cell_type": "code",
   "execution_count": 60,
   "metadata": {},
   "outputs": [
    {
     "name": "stdout",
     "output_type": "stream",
     "text": [
      "[596.39998779 176.76666158 214.40666402]\n"
     ]
    }
   ],
   "source": [
    "print(center_of_mass[0])"
   ]
  },
  {
   "cell_type": "markdown",
   "metadata": {},
   "source": [
    "Facteur 10 entre centre de masse de g_aggregate et ceux de MDAnalysis\n",
    "c_aggregate : 59.639999;17.676666;21.440668"
   ]
  },
  {
   "cell_type": "markdown",
   "metadata": {},
   "source": [
    "### Distance matrix\n",
    "With center of mass"
   ]
  },
  {
   "cell_type": "code",
   "execution_count": 6,
   "metadata": {},
   "outputs": [],
   "source": [
    "from numpy.linalg import norm\n",
    "import numpy as np"
   ]
  },
  {
   "cell_type": "code",
   "execution_count": 110,
   "metadata": {},
   "outputs": [],
   "source": [
    "dist_matrix = np.zeros((to.n_residues,to.n_residues))"
   ]
  },
  {
   "cell_type": "code",
   "execution_count": 116,
   "metadata": {},
   "outputs": [],
   "source": [
    "nb_residues = to.n_residues\n",
    "for i in range(nb_residues):\n",
    "    for j in range(nb_residues):\n",
    "        diff = center_of_mass[i] - center_of_mass[j]\n",
    "        dist = norm(diff)\n",
    "        dist_matrix[i][j] = dist"
   ]
  },
  {
   "cell_type": "markdown",
   "metadata": {},
   "source": [
    "### Clustering\n",
    "recursiv_clust method in C code"
   ]
  },
  {
   "cell_type": "code",
   "execution_count": 79,
   "metadata": {},
   "outputs": [],
   "source": [
    "def recursiv_it(distmat, threshold, nb_residues, actual_residue, actual_cluster, clusters, nb_clusters):\n",
    "    clusters[actual_residue] = actual_cluster\n",
    "    for i in range(nb_residues):\n",
    "        if distmat[actual_residue][i] < threshold and i != actual_residue and i not in clusters : \n",
    "            if actual_cluster == 0:\n",
    "                nb_clusters += 1 \n",
    "                actual_cluster = nb_clusters\n",
    "                clusters[actual_residue] = actual_cluster\n",
    "            clusters, nb_clusters = recursiv_it(distmat, threshold, nb_residues, i, actual_cluster, clusters, nb_clusters)\n",
    "    return clusters, nb_clusters\n",
    "\n",
    "def recursiv_clust(distmat, threshold, nb_residues):\n",
    "    nb_clusters = 0\n",
    "    clusters = {}\n",
    "    \n",
    "    for i in range(nb_residues):\n",
    "        if not i in clusters:\n",
    "            clusters, nb_clusters = recursiv_it(distmat, threshold, nb_residues, i, 0, clusters, nb_clusters)\n",
    "    \n",
    "    return clusters, nb_clusters"
   ]
  },
  {
   "cell_type": "code",
   "execution_count": 122,
   "metadata": {},
   "outputs": [],
   "source": [
    "def constructMatrix(nb_residues, selection):\n",
    "    center_of_mass = selection.center_of_mass(compound=\"residues\")\n",
    "    dist_matrix = np.zeros((nb_residues, nb_residues))\n",
    "    for i in range(nb_residues):\n",
    "        for j in range(nb_residues):\n",
    "            diff = center_of_mass[i] - center_of_mass[j]\n",
    "            #print(type(diff))\n",
    "            #dist = norm(diff)\n",
    "            dist = homemade_norm(diff)\n",
    "            dist_matrix[i][j] = diff\n",
    "    return dist_matrix"
   ]
  },
  {
   "cell_type": "code",
   "execution_count": 126,
   "metadata": {},
   "outputs": [],
   "source": [
    "def homemade_norm(vector):\n",
    "    square_sum = sum([v**2 for v in vector])\n",
    "    print(square_sum)"
   ]
  },
  {
   "cell_type": "code",
   "execution_count": 114,
   "metadata": {},
   "outputs": [],
   "source": [
    "%load_ext line_profiler"
   ]
  },
  {
   "cell_type": "code",
   "execution_count": 81,
   "metadata": {},
   "outputs": [
    {
     "name": "stdout",
     "output_type": "stream",
     "text": [
      "CPU times: user 7 µs, sys: 3 µs, total: 10 µs\n",
      "Wall time: 19.6 µs\n"
     ]
    }
   ],
   "source": [
    "%time\n",
    "clusters, nb_clusters = recursiv_clust(dist_matrix, 10.3, to.n_residues)"
   ]
  },
  {
   "cell_type": "code",
   "execution_count": 78,
   "metadata": {},
   "outputs": [
    {
     "name": "stdout",
     "output_type": "stream",
     "text": [
      "40664\n"
     ]
    }
   ],
   "source": [
    "print(len(system.trajectory))"
   ]
  },
  {
   "cell_type": "code",
   "execution_count": 102,
   "metadata": {},
   "outputs": [
    {
     "name": "stdout",
     "output_type": "stream",
     "text": [
      "0\n",
      "CPU times: user 3 µs, sys: 1e+03 ns, total: 4 µs\n",
      "Wall time: 7.39 µs\n"
     ]
    }
   ],
   "source": [
    "for ts in system.trajectory[:1]:\n",
    "    print(ts.frame)\n",
    "    dist_matrix = constructMatrix(nb_residues, to)"
   ]
  },
  {
   "cell_type": "code",
   "execution_count": 123,
   "metadata": {},
   "outputs": [
    {
     "ename": "ValueError",
     "evalue": "setting an array element with a sequence.",
     "output_type": "error",
     "traceback": [
      "\u001b[0;31m---------------------------------------------------------------------------\u001b[0m",
      "\u001b[0;31mTypeError\u001b[0m                                 Traceback (most recent call last)",
      "\u001b[0;31mTypeError\u001b[0m: only size-1 arrays can be converted to Python scalars",
      "\nThe above exception was the direct cause of the following exception:\n",
      "\u001b[0;31mValueError\u001b[0m                                Traceback (most recent call last)",
      "\u001b[0;32m<ipython-input-123-3ae3f8e4b7dc>\u001b[0m in \u001b[0;36m<module>\u001b[0;34m\u001b[0m\n\u001b[0;32m----> 1\u001b[0;31m \u001b[0mdist_matrix\u001b[0m \u001b[0;34m=\u001b[0m \u001b[0mconstructMatrix\u001b[0m\u001b[0;34m(\u001b[0m\u001b[0mnb_residues\u001b[0m\u001b[0;34m,\u001b[0m \u001b[0mto\u001b[0m\u001b[0;34m)\u001b[0m\u001b[0;34m\u001b[0m\u001b[0;34m\u001b[0m\u001b[0m\n\u001b[0m",
      "\u001b[0;32m<ipython-input-122-bcfac32ba652>\u001b[0m in \u001b[0;36mconstructMatrix\u001b[0;34m(nb_residues, selection)\u001b[0m\n\u001b[1;32m      7\u001b[0m             \u001b[0;31m#print(type(diff))\u001b[0m\u001b[0;34m\u001b[0m\u001b[0;34m\u001b[0m\u001b[0;34m\u001b[0m\u001b[0m\n\u001b[1;32m      8\u001b[0m             \u001b[0;31m#dist = norm(diff)\u001b[0m\u001b[0;34m\u001b[0m\u001b[0;34m\u001b[0m\u001b[0;34m\u001b[0m\u001b[0m\n\u001b[0;32m----> 9\u001b[0;31m             \u001b[0mdist_matrix\u001b[0m\u001b[0;34m[\u001b[0m\u001b[0mi\u001b[0m\u001b[0;34m]\u001b[0m\u001b[0;34m[\u001b[0m\u001b[0mj\u001b[0m\u001b[0;34m]\u001b[0m \u001b[0;34m=\u001b[0m \u001b[0mdiff\u001b[0m\u001b[0;34m\u001b[0m\u001b[0;34m\u001b[0m\u001b[0m\n\u001b[0m\u001b[1;32m     10\u001b[0m     \u001b[0;32mreturn\u001b[0m \u001b[0mdist_matrix\u001b[0m\u001b[0;34m\u001b[0m\u001b[0;34m\u001b[0m\u001b[0m\n",
      "\u001b[0;31mValueError\u001b[0m: setting an array element with a sequence."
     ]
    }
   ],
   "source": [
    "dist_matrix = constructMatrix(nb_residues, to)"
   ]
  },
  {
   "cell_type": "code",
   "execution_count": 119,
   "metadata": {},
   "outputs": [],
   "source": [
    "%lprun -f constructMatrix constructMatrix(nb_residues, to)"
   ]
  }
 ],
 "metadata": {
  "kernelspec": {
   "display_name": "Python 3",
   "language": "python",
   "name": "python3"
  },
  "language_info": {
   "codemirror_mode": {
    "name": "ipython",
    "version": 3
   },
   "file_extension": ".py",
   "mimetype": "text/x-python",
   "name": "python",
   "nbconvert_exporter": "python",
   "pygments_lexer": "ipython3",
   "version": "3.8.3"
  }
 },
 "nbformat": 4,
 "nbformat_minor": 4
}
